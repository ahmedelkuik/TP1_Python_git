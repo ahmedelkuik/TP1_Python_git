{
 "cells": [
  {
   "cell_type": "markdown",
   "metadata": {},
   "source": [
    "## tessssssttttt"
   ]
  },
  {
   "cell_type": "code",
   "execution_count": 48,
   "metadata": {},
   "outputs": [],
   "source": [
    "import pandas as pd\n",
    "import numpy as np\n",
    "import matplotlib.pyplot as plt\n",
    "import seaborn as sns\n",
    "sns.set_theme(style=\"whitegrid\",palette='dark')"
   ]
  },
  {
   "cell_type": "code",
   "execution_count": 19,
   "metadata": {},
   "outputs": [],
   "source": [
    "cities = pd.read_csv(\"Data/cities.csv\")\n",
    "population = pd.read_csv(\"Data/Population_data.csv\")"
   ]
  },
  {
   "cell_type": "code",
   "execution_count": 4,
   "metadata": {},
   "outputs": [
    {
     "data": {
      "text/html": [
       "<div>\n",
       "<style scoped>\n",
       "    .dataframe tbody tr th:only-of-type {\n",
       "        vertical-align: middle;\n",
       "    }\n",
       "\n",
       "    .dataframe tbody tr th {\n",
       "        vertical-align: top;\n",
       "    }\n",
       "\n",
       "    .dataframe thead th {\n",
       "        text-align: right;\n",
       "    }\n",
       "</style>\n",
       "<table border=\"1\" class=\"dataframe\">\n",
       "  <thead>\n",
       "    <tr style=\"text-align: right;\">\n",
       "      <th></th>\n",
       "      <th>LatD</th>\n",
       "      <th>\"LatM\"</th>\n",
       "      <th>\"LatS\"</th>\n",
       "      <th>\"NS\"</th>\n",
       "      <th>\"LonD\"</th>\n",
       "      <th>\"LonM\"</th>\n",
       "      <th>\"LonS\"</th>\n",
       "      <th>\"EW\"</th>\n",
       "      <th>\"City\"</th>\n",
       "      <th>\"State\"</th>\n",
       "    </tr>\n",
       "  </thead>\n",
       "  <tbody>\n",
       "    <tr>\n",
       "      <th>0</th>\n",
       "      <td>41</td>\n",
       "      <td>5</td>\n",
       "      <td>59</td>\n",
       "      <td>\"N\"</td>\n",
       "      <td>80</td>\n",
       "      <td>39</td>\n",
       "      <td>0</td>\n",
       "      <td>\"W\"</td>\n",
       "      <td>\"Youngstown\"</td>\n",
       "      <td>OH</td>\n",
       "    </tr>\n",
       "    <tr>\n",
       "      <th>1</th>\n",
       "      <td>42</td>\n",
       "      <td>52</td>\n",
       "      <td>48</td>\n",
       "      <td>\"N\"</td>\n",
       "      <td>97</td>\n",
       "      <td>23</td>\n",
       "      <td>23</td>\n",
       "      <td>\"W\"</td>\n",
       "      <td>\"Yankton\"</td>\n",
       "      <td>SD</td>\n",
       "    </tr>\n",
       "    <tr>\n",
       "      <th>2</th>\n",
       "      <td>46</td>\n",
       "      <td>35</td>\n",
       "      <td>59</td>\n",
       "      <td>\"N\"</td>\n",
       "      <td>120</td>\n",
       "      <td>30</td>\n",
       "      <td>36</td>\n",
       "      <td>\"W\"</td>\n",
       "      <td>\"Yakima\"</td>\n",
       "      <td>WA</td>\n",
       "    </tr>\n",
       "    <tr>\n",
       "      <th>3</th>\n",
       "      <td>42</td>\n",
       "      <td>16</td>\n",
       "      <td>12</td>\n",
       "      <td>\"N\"</td>\n",
       "      <td>71</td>\n",
       "      <td>48</td>\n",
       "      <td>0</td>\n",
       "      <td>\"W\"</td>\n",
       "      <td>\"Worcester\"</td>\n",
       "      <td>MA</td>\n",
       "    </tr>\n",
       "    <tr>\n",
       "      <th>4</th>\n",
       "      <td>43</td>\n",
       "      <td>37</td>\n",
       "      <td>48</td>\n",
       "      <td>\"N\"</td>\n",
       "      <td>89</td>\n",
       "      <td>46</td>\n",
       "      <td>11</td>\n",
       "      <td>\"W\"</td>\n",
       "      <td>\"Wisconsin Dells\"</td>\n",
       "      <td>WI</td>\n",
       "    </tr>\n",
       "  </tbody>\n",
       "</table>\n",
       "</div>"
      ],
      "text/plain": [
       "   LatD   \"LatM\"   \"LatS\"  \"NS\"   \"LonD\"   \"LonM\"   \"LonS\"  \"EW\"  \\\n",
       "0    41        5       59   \"N\"       80       39        0   \"W\"   \n",
       "1    42       52       48   \"N\"       97       23       23   \"W\"   \n",
       "2    46       35       59   \"N\"      120       30       36   \"W\"   \n",
       "3    42       16       12   \"N\"       71       48        0   \"W\"   \n",
       "4    43       37       48   \"N\"       89       46       11   \"W\"   \n",
       "\n",
       "               \"City\"  \"State\"  \n",
       "0        \"Youngstown\"       OH  \n",
       "1           \"Yankton\"       SD  \n",
       "2            \"Yakima\"       WA  \n",
       "3         \"Worcester\"       MA  \n",
       "4   \"Wisconsin Dells\"       WI  "
      ]
     },
     "execution_count": 4,
     "metadata": {},
     "output_type": "execute_result"
    }
   ],
   "source": [
    "cities.head()"
   ]
  },
  {
   "cell_type": "code",
   "execution_count": 21,
   "metadata": {},
   "outputs": [],
   "source": [
    "def rename_df(x):\n",
    "    x = x.replace('\"',\"\")\n",
    "    x = x.replace(' ',\"\")\n",
    "    return x\n",
    "cities.rename(columns=rename_df, inplace=True)"
   ]
  },
  {
   "cell_type": "code",
   "execution_count": 17,
   "metadata": {},
   "outputs": [
    {
     "data": {
      "text/html": [
       "<div>\n",
       "<style scoped>\n",
       "    .dataframe tbody tr th:only-of-type {\n",
       "        vertical-align: middle;\n",
       "    }\n",
       "\n",
       "    .dataframe tbody tr th {\n",
       "        vertical-align: top;\n",
       "    }\n",
       "\n",
       "    .dataframe thead th {\n",
       "        text-align: right;\n",
       "    }\n",
       "</style>\n",
       "<table border=\"1\" class=\"dataframe\">\n",
       "  <thead>\n",
       "    <tr style=\"text-align: right;\">\n",
       "      <th></th>\n",
       "      <th>LatD</th>\n",
       "      <th>LatM</th>\n",
       "      <th>LatS</th>\n",
       "      <th>NS</th>\n",
       "      <th>LonD</th>\n",
       "      <th>LonM</th>\n",
       "      <th>LonS</th>\n",
       "      <th>EW</th>\n",
       "      <th>City</th>\n",
       "      <th>State</th>\n",
       "    </tr>\n",
       "  </thead>\n",
       "  <tbody>\n",
       "    <tr>\n",
       "      <th>0</th>\n",
       "      <td>41</td>\n",
       "      <td>5</td>\n",
       "      <td>59</td>\n",
       "      <td>\"N\"</td>\n",
       "      <td>80</td>\n",
       "      <td>39</td>\n",
       "      <td>0</td>\n",
       "      <td>\"W\"</td>\n",
       "      <td>\"Youngstown\"</td>\n",
       "      <td>OH</td>\n",
       "    </tr>\n",
       "    <tr>\n",
       "      <th>1</th>\n",
       "      <td>42</td>\n",
       "      <td>52</td>\n",
       "      <td>48</td>\n",
       "      <td>\"N\"</td>\n",
       "      <td>97</td>\n",
       "      <td>23</td>\n",
       "      <td>23</td>\n",
       "      <td>\"W\"</td>\n",
       "      <td>\"Yankton\"</td>\n",
       "      <td>SD</td>\n",
       "    </tr>\n",
       "    <tr>\n",
       "      <th>2</th>\n",
       "      <td>46</td>\n",
       "      <td>35</td>\n",
       "      <td>59</td>\n",
       "      <td>\"N\"</td>\n",
       "      <td>120</td>\n",
       "      <td>30</td>\n",
       "      <td>36</td>\n",
       "      <td>\"W\"</td>\n",
       "      <td>\"Yakima\"</td>\n",
       "      <td>WA</td>\n",
       "    </tr>\n",
       "    <tr>\n",
       "      <th>3</th>\n",
       "      <td>42</td>\n",
       "      <td>16</td>\n",
       "      <td>12</td>\n",
       "      <td>\"N\"</td>\n",
       "      <td>71</td>\n",
       "      <td>48</td>\n",
       "      <td>0</td>\n",
       "      <td>\"W\"</td>\n",
       "      <td>\"Worcester\"</td>\n",
       "      <td>MA</td>\n",
       "    </tr>\n",
       "    <tr>\n",
       "      <th>4</th>\n",
       "      <td>43</td>\n",
       "      <td>37</td>\n",
       "      <td>48</td>\n",
       "      <td>\"N\"</td>\n",
       "      <td>89</td>\n",
       "      <td>46</td>\n",
       "      <td>11</td>\n",
       "      <td>\"W\"</td>\n",
       "      <td>\"Wisconsin Dells\"</td>\n",
       "      <td>WI</td>\n",
       "    </tr>\n",
       "  </tbody>\n",
       "</table>\n",
       "</div>"
      ],
      "text/plain": [
       "   LatD   LatM   LatS    NS   LonD   LonM   LonS    EW                City  \\\n",
       "0    41      5     59   \"N\"     80     39      0   \"W\"        \"Youngstown\"   \n",
       "1    42     52     48   \"N\"     97     23     23   \"W\"           \"Yankton\"   \n",
       "2    46     35     59   \"N\"    120     30     36   \"W\"            \"Yakima\"   \n",
       "3    42     16     12   \"N\"     71     48      0   \"W\"         \"Worcester\"   \n",
       "4    43     37     48   \"N\"     89     46     11   \"W\"   \"Wisconsin Dells\"   \n",
       "\n",
       "   State  \n",
       "0     OH  \n",
       "1     SD  \n",
       "2     WA  \n",
       "3     MA  \n",
       "4     WI  "
      ]
     },
     "execution_count": 17,
     "metadata": {},
     "output_type": "execute_result"
    }
   ],
   "source": [
    "cities.head()"
   ]
  },
  {
   "cell_type": "code",
   "execution_count": 34,
   "metadata": {},
   "outputs": [
    {
     "data": {
      "text/html": [
       "<div>\n",
       "<style scoped>\n",
       "    .dataframe tbody tr th:only-of-type {\n",
       "        vertical-align: middle;\n",
       "    }\n",
       "\n",
       "    .dataframe tbody tr th {\n",
       "        vertical-align: top;\n",
       "    }\n",
       "\n",
       "    .dataframe thead th {\n",
       "        text-align: right;\n",
       "    }\n",
       "</style>\n",
       "<table border=\"1\" class=\"dataframe\">\n",
       "  <thead>\n",
       "    <tr style=\"text-align: right;\">\n",
       "      <th></th>\n",
       "      <th>City</th>\n",
       "      <th>Population_2020</th>\n",
       "      <th>Growth_rate</th>\n",
       "    </tr>\n",
       "  </thead>\n",
       "  <tbody>\n",
       "    <tr>\n",
       "      <th>0</th>\n",
       "      <td>\"Youngstown\"</td>\n",
       "      <td>171958</td>\n",
       "      <td>1.684645</td>\n",
       "    </tr>\n",
       "    <tr>\n",
       "      <th>1</th>\n",
       "      <td>\"Yankton\"</td>\n",
       "      <td>721155</td>\n",
       "      <td>1.380465</td>\n",
       "    </tr>\n",
       "    <tr>\n",
       "      <th>2</th>\n",
       "      <td>\"Yakima\"</td>\n",
       "      <td>181932</td>\n",
       "      <td>0.542239</td>\n",
       "    </tr>\n",
       "    <tr>\n",
       "      <th>3</th>\n",
       "      <td>\"Worcester\"</td>\n",
       "      <td>415838</td>\n",
       "      <td>1.096527</td>\n",
       "    </tr>\n",
       "    <tr>\n",
       "      <th>4</th>\n",
       "      <td>\"Wisconsin Dells\"</td>\n",
       "      <td>309178</td>\n",
       "      <td>2.634026</td>\n",
       "    </tr>\n",
       "  </tbody>\n",
       "</table>\n",
       "</div>"
      ],
      "text/plain": [
       "                 City  Population_2020  Growth_rate\n",
       "0        \"Youngstown\"           171958     1.684645\n",
       "1           \"Yankton\"           721155     1.380465\n",
       "2            \"Yakima\"           181932     0.542239\n",
       "3         \"Worcester\"           415838     1.096527\n",
       "4   \"Wisconsin Dells\"           309178     2.634026"
      ]
     },
     "execution_count": 34,
     "metadata": {},
     "output_type": "execute_result"
    }
   ],
   "source": [
    "population.head()"
   ]
  },
  {
   "cell_type": "markdown",
   "metadata": {},
   "source": [
    "1. Ajouter une colonne \"Latitude totale\" et \"Longitude totale\" dans le fichier \n",
    "cities.csv\n"
   ]
  },
  {
   "cell_type": "code",
   "execution_count": 26,
   "metadata": {},
   "outputs": [],
   "source": [
    "cities[\"Latitude totale\"] = cities.LatD + (cities.LatM / 60) + (cities.LatS / 3600)\n",
    "cities[\"Longitude totale\"] = cities.LonD + (cities.LonM / 60) + (cities.LonS / 3600)"
   ]
  },
  {
   "cell_type": "markdown",
   "metadata": {},
   "source": [
    "2. Filtrer les villes situées dans l'hémisphère Nord"
   ]
  },
  {
   "cell_type": "code",
   "execution_count": 32,
   "metadata": {},
   "outputs": [],
   "source": [
    "cities_nord = cities[cities[\"NS\"] == \"N\"]"
   ]
  },
  {
   "cell_type": "code",
   "execution_count": 43,
   "metadata": {},
   "outputs": [
    {
     "data": {
      "text/html": [
       "<div>\n",
       "<style scoped>\n",
       "    .dataframe tbody tr th:only-of-type {\n",
       "        vertical-align: middle;\n",
       "    }\n",
       "\n",
       "    .dataframe tbody tr th {\n",
       "        vertical-align: top;\n",
       "    }\n",
       "\n",
       "    .dataframe thead th {\n",
       "        text-align: right;\n",
       "    }\n",
       "</style>\n",
       "<table border=\"1\" class=\"dataframe\">\n",
       "  <thead>\n",
       "    <tr style=\"text-align: right;\">\n",
       "      <th></th>\n",
       "      <th>LatD</th>\n",
       "      <th>LatM</th>\n",
       "      <th>LatS</th>\n",
       "      <th>NS</th>\n",
       "      <th>LonD</th>\n",
       "      <th>LonM</th>\n",
       "      <th>LonS</th>\n",
       "      <th>EW</th>\n",
       "      <th>City</th>\n",
       "      <th>State</th>\n",
       "      <th>Latitude totale</th>\n",
       "      <th>Longitude totale</th>\n",
       "    </tr>\n",
       "  </thead>\n",
       "  <tbody>\n",
       "    <tr>\n",
       "      <th>0</th>\n",
       "      <td>41</td>\n",
       "      <td>5</td>\n",
       "      <td>59</td>\n",
       "      <td>N</td>\n",
       "      <td>80</td>\n",
       "      <td>39</td>\n",
       "      <td>0</td>\n",
       "      <td>\"W\"</td>\n",
       "      <td>\"Youngstown\"</td>\n",
       "      <td>OH</td>\n",
       "      <td>41.099722</td>\n",
       "      <td>80.650000</td>\n",
       "    </tr>\n",
       "    <tr>\n",
       "      <th>1</th>\n",
       "      <td>42</td>\n",
       "      <td>52</td>\n",
       "      <td>48</td>\n",
       "      <td>N</td>\n",
       "      <td>97</td>\n",
       "      <td>23</td>\n",
       "      <td>23</td>\n",
       "      <td>\"W\"</td>\n",
       "      <td>\"Yankton\"</td>\n",
       "      <td>SD</td>\n",
       "      <td>42.880000</td>\n",
       "      <td>97.389722</td>\n",
       "    </tr>\n",
       "    <tr>\n",
       "      <th>2</th>\n",
       "      <td>46</td>\n",
       "      <td>35</td>\n",
       "      <td>59</td>\n",
       "      <td>N</td>\n",
       "      <td>120</td>\n",
       "      <td>30</td>\n",
       "      <td>36</td>\n",
       "      <td>\"W\"</td>\n",
       "      <td>\"Yakima\"</td>\n",
       "      <td>WA</td>\n",
       "      <td>46.599722</td>\n",
       "      <td>120.510000</td>\n",
       "    </tr>\n",
       "    <tr>\n",
       "      <th>3</th>\n",
       "      <td>42</td>\n",
       "      <td>16</td>\n",
       "      <td>12</td>\n",
       "      <td>N</td>\n",
       "      <td>71</td>\n",
       "      <td>48</td>\n",
       "      <td>0</td>\n",
       "      <td>\"W\"</td>\n",
       "      <td>\"Worcester\"</td>\n",
       "      <td>MA</td>\n",
       "      <td>42.270000</td>\n",
       "      <td>71.800000</td>\n",
       "    </tr>\n",
       "    <tr>\n",
       "      <th>4</th>\n",
       "      <td>43</td>\n",
       "      <td>37</td>\n",
       "      <td>48</td>\n",
       "      <td>N</td>\n",
       "      <td>89</td>\n",
       "      <td>46</td>\n",
       "      <td>11</td>\n",
       "      <td>\"W\"</td>\n",
       "      <td>\"Wisconsin Dells\"</td>\n",
       "      <td>WI</td>\n",
       "      <td>43.630000</td>\n",
       "      <td>89.769722</td>\n",
       "    </tr>\n",
       "    <tr>\n",
       "      <th>...</th>\n",
       "      <td>...</td>\n",
       "      <td>...</td>\n",
       "      <td>...</td>\n",
       "      <td>...</td>\n",
       "      <td>...</td>\n",
       "      <td>...</td>\n",
       "      <td>...</td>\n",
       "      <td>...</td>\n",
       "      <td>...</td>\n",
       "      <td>...</td>\n",
       "      <td>...</td>\n",
       "      <td>...</td>\n",
       "    </tr>\n",
       "    <tr>\n",
       "      <th>123</th>\n",
       "      <td>39</td>\n",
       "      <td>31</td>\n",
       "      <td>12</td>\n",
       "      <td>N</td>\n",
       "      <td>119</td>\n",
       "      <td>48</td>\n",
       "      <td>35</td>\n",
       "      <td>\"W\"</td>\n",
       "      <td>\"Reno\"</td>\n",
       "      <td>NV</td>\n",
       "      <td>39.520000</td>\n",
       "      <td>119.809722</td>\n",
       "    </tr>\n",
       "    <tr>\n",
       "      <th>124</th>\n",
       "      <td>50</td>\n",
       "      <td>25</td>\n",
       "      <td>11</td>\n",
       "      <td>N</td>\n",
       "      <td>104</td>\n",
       "      <td>39</td>\n",
       "      <td>0</td>\n",
       "      <td>\"W\"</td>\n",
       "      <td>\"Regina\"</td>\n",
       "      <td>SA</td>\n",
       "      <td>50.419722</td>\n",
       "      <td>104.650000</td>\n",
       "    </tr>\n",
       "    <tr>\n",
       "      <th>125</th>\n",
       "      <td>40</td>\n",
       "      <td>10</td>\n",
       "      <td>48</td>\n",
       "      <td>N</td>\n",
       "      <td>122</td>\n",
       "      <td>14</td>\n",
       "      <td>23</td>\n",
       "      <td>\"W\"</td>\n",
       "      <td>\"Red Bluff\"</td>\n",
       "      <td>CA</td>\n",
       "      <td>40.180000</td>\n",
       "      <td>122.239722</td>\n",
       "    </tr>\n",
       "    <tr>\n",
       "      <th>126</th>\n",
       "      <td>40</td>\n",
       "      <td>19</td>\n",
       "      <td>48</td>\n",
       "      <td>N</td>\n",
       "      <td>75</td>\n",
       "      <td>55</td>\n",
       "      <td>48</td>\n",
       "      <td>\"W\"</td>\n",
       "      <td>\"Reading\"</td>\n",
       "      <td>PA</td>\n",
       "      <td>40.330000</td>\n",
       "      <td>75.930000</td>\n",
       "    </tr>\n",
       "    <tr>\n",
       "      <th>127</th>\n",
       "      <td>41</td>\n",
       "      <td>9</td>\n",
       "      <td>35</td>\n",
       "      <td>N</td>\n",
       "      <td>81</td>\n",
       "      <td>14</td>\n",
       "      <td>23</td>\n",
       "      <td>\"W\"</td>\n",
       "      <td>\"Ravenna\"</td>\n",
       "      <td>OH</td>\n",
       "      <td>41.159722</td>\n",
       "      <td>81.239722</td>\n",
       "    </tr>\n",
       "  </tbody>\n",
       "</table>\n",
       "<p>128 rows × 12 columns</p>\n",
       "</div>"
      ],
      "text/plain": [
       "     LatD  LatM  LatS NS  LonD  LonM  LonS    EW                City State  \\\n",
       "0      41     5    59  N    80    39     0   \"W\"        \"Youngstown\"    OH   \n",
       "1      42    52    48  N    97    23    23   \"W\"           \"Yankton\"    SD   \n",
       "2      46    35    59  N   120    30    36   \"W\"            \"Yakima\"    WA   \n",
       "3      42    16    12  N    71    48     0   \"W\"         \"Worcester\"    MA   \n",
       "4      43    37    48  N    89    46    11   \"W\"   \"Wisconsin Dells\"    WI   \n",
       "..    ...   ...   ... ..   ...   ...   ...   ...                 ...   ...   \n",
       "123    39    31    12  N   119    48    35   \"W\"              \"Reno\"    NV   \n",
       "124    50    25    11  N   104    39     0   \"W\"            \"Regina\"    SA   \n",
       "125    40    10    48  N   122    14    23   \"W\"         \"Red Bluff\"    CA   \n",
       "126    40    19    48  N    75    55    48   \"W\"           \"Reading\"    PA   \n",
       "127    41     9    35  N    81    14    23   \"W\"           \"Ravenna\"   OH    \n",
       "\n",
       "     Latitude totale  Longitude totale  \n",
       "0          41.099722         80.650000  \n",
       "1          42.880000         97.389722  \n",
       "2          46.599722        120.510000  \n",
       "3          42.270000         71.800000  \n",
       "4          43.630000         89.769722  \n",
       "..               ...               ...  \n",
       "123        39.520000        119.809722  \n",
       "124        50.419722        104.650000  \n",
       "125        40.180000        122.239722  \n",
       "126        40.330000         75.930000  \n",
       "127        41.159722         81.239722  \n",
       "\n",
       "[128 rows x 12 columns]"
      ]
     },
     "execution_count": 43,
     "metadata": {},
     "output_type": "execute_result"
    }
   ],
   "source": [
    "cities_nord"
   ]
  },
  {
   "cell_type": "markdown",
   "metadata": {},
   "source": [
    "3. Fusionner les deux DataFrames sur la colonne \"City\"\n"
   ]
  },
  {
   "cell_type": "code",
   "execution_count": 36,
   "metadata": {},
   "outputs": [],
   "source": [
    "df_merged = pd.merge(cities,population,how=\"left\", on=\"City\")"
   ]
  },
  {
   "cell_type": "markdown",
   "metadata": {},
   "source": [
    "4. Calculer la population projetée pour 2025"
   ]
  },
  {
   "cell_type": "code",
   "execution_count": 40,
   "metadata": {},
   "outputs": [],
   "source": [
    "df_merged[\"Population_2025\"] = df_merged.Population_2020 * pow(1 + (df_merged.Growth_rate/100),5)"
   ]
  },
  {
   "cell_type": "markdown",
   "metadata": {},
   "source": [
    "5. Afficher les villes avec une population projetée supérieure à 1 million en 2025\n"
   ]
  },
  {
   "cell_type": "code",
   "execution_count": 42,
   "metadata": {},
   "outputs": [
    {
     "data": {
      "text/html": [
       "<div>\n",
       "<style scoped>\n",
       "    .dataframe tbody tr th:only-of-type {\n",
       "        vertical-align: middle;\n",
       "    }\n",
       "\n",
       "    .dataframe tbody tr th {\n",
       "        vertical-align: top;\n",
       "    }\n",
       "\n",
       "    .dataframe thead th {\n",
       "        text-align: right;\n",
       "    }\n",
       "</style>\n",
       "<table border=\"1\" class=\"dataframe\">\n",
       "  <thead>\n",
       "    <tr style=\"text-align: right;\">\n",
       "      <th></th>\n",
       "      <th>LatD</th>\n",
       "      <th>LatM</th>\n",
       "      <th>LatS</th>\n",
       "      <th>NS</th>\n",
       "      <th>LonD</th>\n",
       "      <th>LonM</th>\n",
       "      <th>LonS</th>\n",
       "      <th>EW</th>\n",
       "      <th>City</th>\n",
       "      <th>State</th>\n",
       "      <th>Latitude totale</th>\n",
       "      <th>Longitude totale</th>\n",
       "      <th>Population_2020</th>\n",
       "      <th>Growth_rate</th>\n",
       "      <th>Population_2025</th>\n",
       "    </tr>\n",
       "  </thead>\n",
       "  <tbody>\n",
       "    <tr>\n",
       "      <th>15</th>\n",
       "      <td>33</td>\n",
       "      <td>54</td>\n",
       "      <td>0</td>\n",
       "      <td>N</td>\n",
       "      <td>98</td>\n",
       "      <td>29</td>\n",
       "      <td>23</td>\n",
       "      <td>\"W\"</td>\n",
       "      <td>\"Wichita Falls\"</td>\n",
       "      <td>TX</td>\n",
       "      <td>33.900000</td>\n",
       "      <td>98.489722</td>\n",
       "      <td>962756</td>\n",
       "      <td>1.612455</td>\n",
       "      <td>1.042920e+06</td>\n",
       "    </tr>\n",
       "    <tr>\n",
       "      <th>39</th>\n",
       "      <td>30</td>\n",
       "      <td>49</td>\n",
       "      <td>47</td>\n",
       "      <td>N</td>\n",
       "      <td>83</td>\n",
       "      <td>16</td>\n",
       "      <td>47</td>\n",
       "      <td>\"W\"</td>\n",
       "      <td>\"Valdosta\"</td>\n",
       "      <td>GA</td>\n",
       "      <td>30.829722</td>\n",
       "      <td>83.279722</td>\n",
       "      <td>967040</td>\n",
       "      <td>2.313252</td>\n",
       "      <td>1.084186e+06</td>\n",
       "    </tr>\n",
       "    <tr>\n",
       "      <th>42</th>\n",
       "      <td>32</td>\n",
       "      <td>20</td>\n",
       "      <td>59</td>\n",
       "      <td>N</td>\n",
       "      <td>95</td>\n",
       "      <td>18</td>\n",
       "      <td>0</td>\n",
       "      <td>\"W\"</td>\n",
       "      <td>\"Tyler\"</td>\n",
       "      <td>TX</td>\n",
       "      <td>32.349722</td>\n",
       "      <td>95.300000</td>\n",
       "      <td>920910</td>\n",
       "      <td>3.328561</td>\n",
       "      <td>1.084724e+06</td>\n",
       "    </tr>\n",
       "    <tr>\n",
       "      <th>52</th>\n",
       "      <td>39</td>\n",
       "      <td>2</td>\n",
       "      <td>59</td>\n",
       "      <td>N</td>\n",
       "      <td>95</td>\n",
       "      <td>40</td>\n",
       "      <td>11</td>\n",
       "      <td>\"W\"</td>\n",
       "      <td>\"Topeka\"</td>\n",
       "      <td>KS</td>\n",
       "      <td>39.049722</td>\n",
       "      <td>95.669722</td>\n",
       "      <td>955778</td>\n",
       "      <td>3.149841</td>\n",
       "      <td>1.116092e+06</td>\n",
       "    </tr>\n",
       "    <tr>\n",
       "      <th>57</th>\n",
       "      <td>30</td>\n",
       "      <td>27</td>\n",
       "      <td>0</td>\n",
       "      <td>N</td>\n",
       "      <td>84</td>\n",
       "      <td>16</td>\n",
       "      <td>47</td>\n",
       "      <td>\"W\"</td>\n",
       "      <td>\"Tallahassee\"</td>\n",
       "      <td>FL</td>\n",
       "      <td>30.450000</td>\n",
       "      <td>84.279722</td>\n",
       "      <td>952648</td>\n",
       "      <td>1.316397</td>\n",
       "      <td>1.017024e+06</td>\n",
       "    </tr>\n",
       "    <tr>\n",
       "      <th>90</th>\n",
       "      <td>44</td>\n",
       "      <td>47</td>\n",
       "      <td>59</td>\n",
       "      <td>N</td>\n",
       "      <td>106</td>\n",
       "      <td>57</td>\n",
       "      <td>35</td>\n",
       "      <td>\"W\"</td>\n",
       "      <td>\"Sheridan\"</td>\n",
       "      <td>WY</td>\n",
       "      <td>44.799722</td>\n",
       "      <td>106.959722</td>\n",
       "      <td>956606</td>\n",
       "      <td>3.493221</td>\n",
       "      <td>1.135776e+06</td>\n",
       "    </tr>\n",
       "    <tr>\n",
       "      <th>92</th>\n",
       "      <td>32</td>\n",
       "      <td>25</td>\n",
       "      <td>11</td>\n",
       "      <td>N</td>\n",
       "      <td>87</td>\n",
       "      <td>1</td>\n",
       "      <td>11</td>\n",
       "      <td>\"W\"</td>\n",
       "      <td>\"Selma\"</td>\n",
       "      <td>AL</td>\n",
       "      <td>32.419722</td>\n",
       "      <td>87.019722</td>\n",
       "      <td>960790</td>\n",
       "      <td>3.429845</td>\n",
       "      <td>1.137255e+06</td>\n",
       "    </tr>\n",
       "    <tr>\n",
       "      <th>96</th>\n",
       "      <td>41</td>\n",
       "      <td>52</td>\n",
       "      <td>11</td>\n",
       "      <td>N</td>\n",
       "      <td>103</td>\n",
       "      <td>39</td>\n",
       "      <td>36</td>\n",
       "      <td>\"W\"</td>\n",
       "      <td>\"Scottsbluff\"</td>\n",
       "      <td>NB</td>\n",
       "      <td>41.869722</td>\n",
       "      <td>103.660000</td>\n",
       "      <td>946942</td>\n",
       "      <td>2.403054</td>\n",
       "      <td>1.066321e+06</td>\n",
       "    </tr>\n",
       "    <tr>\n",
       "      <th>138</th>\n",
       "      <td>37</td>\n",
       "      <td>16</td>\n",
       "      <td>12</td>\n",
       "      <td>N</td>\n",
       "      <td>79</td>\n",
       "      <td>56</td>\n",
       "      <td>24</td>\n",
       "      <td>\"W\"</td>\n",
       "      <td>\"Roanoke\"</td>\n",
       "      <td>VA</td>\n",
       "      <td>37.270000</td>\n",
       "      <td>79.940000</td>\n",
       "      <td>976075</td>\n",
       "      <td>1.282488</td>\n",
       "      <td>1.040291e+06</td>\n",
       "    </tr>\n",
       "    <tr>\n",
       "      <th>144</th>\n",
       "      <td>45</td>\n",
       "      <td>38</td>\n",
       "      <td>23</td>\n",
       "      <td>N</td>\n",
       "      <td>89</td>\n",
       "      <td>25</td>\n",
       "      <td>11</td>\n",
       "      <td>\"W\"</td>\n",
       "      <td>\"Rhinelander\"</td>\n",
       "      <td>WI</td>\n",
       "      <td>45.639722</td>\n",
       "      <td>89.419722</td>\n",
       "      <td>887646</td>\n",
       "      <td>3.147909</td>\n",
       "      <td>1.036435e+06</td>\n",
       "    </tr>\n",
       "  </tbody>\n",
       "</table>\n",
       "</div>"
      ],
      "text/plain": [
       "     LatD  LatM  LatS NS  LonD  LonM  LonS    EW              City State  \\\n",
       "15     33    54     0  N    98    29    23   \"W\"   \"Wichita Falls\"    TX   \n",
       "39     30    49    47  N    83    16    47   \"W\"        \"Valdosta\"    GA   \n",
       "42     32    20    59  N    95    18     0   \"W\"           \"Tyler\"    TX   \n",
       "52     39     2    59  N    95    40    11   \"W\"          \"Topeka\"    KS   \n",
       "57     30    27     0  N    84    16    47   \"W\"     \"Tallahassee\"    FL   \n",
       "90     44    47    59  N   106    57    35   \"W\"        \"Sheridan\"    WY   \n",
       "92     32    25    11  N    87     1    11   \"W\"           \"Selma\"    AL   \n",
       "96     41    52    11  N   103    39    36   \"W\"     \"Scottsbluff\"    NB   \n",
       "138    37    16    12  N    79    56    24   \"W\"         \"Roanoke\"    VA   \n",
       "144    45    38    23  N    89    25    11   \"W\"     \"Rhinelander\"    WI   \n",
       "\n",
       "     Latitude totale  Longitude totale  Population_2020  Growth_rate  \\\n",
       "15         33.900000         98.489722           962756     1.612455   \n",
       "39         30.829722         83.279722           967040     2.313252   \n",
       "42         32.349722         95.300000           920910     3.328561   \n",
       "52         39.049722         95.669722           955778     3.149841   \n",
       "57         30.450000         84.279722           952648     1.316397   \n",
       "90         44.799722        106.959722           956606     3.493221   \n",
       "92         32.419722         87.019722           960790     3.429845   \n",
       "96         41.869722        103.660000           946942     2.403054   \n",
       "138        37.270000         79.940000           976075     1.282488   \n",
       "144        45.639722         89.419722           887646     3.147909   \n",
       "\n",
       "     Population_2025  \n",
       "15      1.042920e+06  \n",
       "39      1.084186e+06  \n",
       "42      1.084724e+06  \n",
       "52      1.116092e+06  \n",
       "57      1.017024e+06  \n",
       "90      1.135776e+06  \n",
       "92      1.137255e+06  \n",
       "96      1.066321e+06  \n",
       "138     1.040291e+06  \n",
       "144     1.036435e+06  "
      ]
     },
     "execution_count": 42,
     "metadata": {},
     "output_type": "execute_result"
    }
   ],
   "source": [
    "df_merged[df_merged.Population_2025 > 1000000]"
   ]
  },
  {
   "cell_type": "markdown",
   "metadata": {},
   "source": [
    "6. Créer un graphique de la population projetée pour 2025"
   ]
  },
  {
   "cell_type": "code",
   "execution_count": 49,
   "metadata": {},
   "outputs": [
    {
     "data": {
      "text/plain": [
       "<Axes: xlabel='City', ylabel='Population_2025'>"
      ]
     },
     "execution_count": 49,
     "metadata": {},
     "output_type": "execute_result"
    },
    {
     "data": {
      "image/png": "[encoded data removed]",
      "text/plain": [
       "<Figure size 1000x600 with 1 Axes>"
      ]
     },
     "metadata": {},
     "output_type": "display_data"
    }
   ],
   "source": [
    "plt.figure(figsize=(10,6))\n",
    "plt.xticks(rotation=30)\n",
    "\n",
    "sns.barplot(df_merged.nlargest(10,'Population_2025'), x='City',y='Population_2025')"
   ]
  },
  {
   "cell_type": "markdown",
   "metadata": {},
   "source": [
    "7. Calculer la densité de population des villes"
   ]
  },
  {
   "cell_type": "code",
   "execution_count": 70,
   "metadata": {},
   "outputs": [],
   "source": [
    "df_merged['Area'] = np.random.randint(10, 500, df_merged.shape[0])\n"
   ]
  },
  {
   "cell_type": "code",
   "execution_count": 71,
   "metadata": {},
   "outputs": [],
   "source": [
    "df_merged[\"densite_population\"] = df_merged.Population_2020 / df_merged.Area"
   ]
  },
  {
   "cell_type": "markdown",
   "metadata": {},
   "source": [
    "8. Trouver la ville avec la plus grande et la plus petite population\n"
   ]
  },
  {
   "cell_type": "code",
   "execution_count": 61,
   "metadata": {},
   "outputs": [
    {
     "data": {
      "text/plain": [
       "' \"Roanoke\"'"
      ]
     },
     "execution_count": 61,
     "metadata": {},
     "output_type": "execute_result"
    }
   ],
   "source": [
    "df_merged.loc[df_merged[\"Population_2020\"].idxmax()].City"
   ]
  },
  {
   "cell_type": "code",
   "execution_count": 62,
   "metadata": {},
   "outputs": [
    {
     "data": {
      "text/plain": [
       "' \"Saint Augustine\"'"
      ]
     },
     "execution_count": 62,
     "metadata": {},
     "output_type": "execute_result"
    }
   ],
   "source": [
    "df_merged.loc[df_merged[\"Population_2020\"].idxmin()].City"
   ]
  },
  {
   "cell_type": "markdown",
   "metadata": {},
   "source": [
    "9. Filtrer les villes avec une densité de population supérieure à 5000 habitants/km²"
   ]
  },
  {
   "cell_type": "code",
   "execution_count": 72,
   "metadata": {},
   "outputs": [
    {
     "data": {
      "text/plain": [
       "9               \"Wilmington\"\n",
       "14              \"Williamson\"\n",
       "17                \"Wheeling\"\n",
       "22                  \"Wausau\"\n",
       "28                \"Waterloo\"\n",
       "39                \"Valdosta\"\n",
       "42                   \"Tyler\"\n",
       "45                  \"Tupelo\"\n",
       "61                  \"Sumter\"\n",
       "66                \"Sterling\"\n",
       "68             \"Springfield\"\n",
       "69             \"Springfield\"\n",
       "70             \"Springfield\"\n",
       "71             \"Springfield\"\n",
       "82             \"Springfield\"\n",
       "83             \"Springfield\"\n",
       "84                 \"Spokane\"\n",
       "85              \"South Bend\"\n",
       "91                \"Seminole\"\n",
       "95                \"Scranton\"\n",
       "99      \"Sault Sainte Marie\"\n",
       "101             \"Santa Rosa\"\n",
       "102               \"Santa Fe\"\n",
       "107               \"Sandusky\"\n",
       "110            \"San Antonio\"\n",
       "129                \"Rutland\"\n",
       "141               \"Richmond\"\n",
       "144            \"Rhinelander\"\n",
       "Name: City, dtype: object"
      ]
     },
     "execution_count": 72,
     "metadata": {},
     "output_type": "execute_result"
    }
   ],
   "source": [
    "df_merged.loc[df_merged[\"densite_population\"] > 5000].City"
   ]
  },
  {
   "cell_type": "markdown",
   "metadata": {},
   "source": [
    "10. Trouver la moyenne et la médiane de la population des villes"
   ]
  },
  {
   "cell_type": "code",
   "execution_count": 73,
   "metadata": {},
   "outputs": [
    {
     "data": {
      "text/plain": [
       "<bound method Series.mean of 0      171958\n",
       "1      721155\n",
       "2      181932\n",
       "3      415838\n",
       "4      309178\n",
       "        ...  \n",
       "145    426896\n",
       "146     98984\n",
       "147    352918\n",
       "148    314712\n",
       "149    170151\n",
       "Name: Population_2020, Length: 150, dtype: int64>"
      ]
     },
     "execution_count": 73,
     "metadata": {},
     "output_type": "execute_result"
    }
   ],
   "source": [
    "df_merged.Population_2020.mean"
   ]
  },
  {
   "cell_type": "code",
   "execution_count": 76,
   "metadata": {},
   "outputs": [
    {
     "data": {
      "text/plain": [
       "<bound method Series.median of 0      171958\n",
       "1      721155\n",
       "2      181932\n",
       "3      415838\n",
       "4      309178\n",
       "        ...  \n",
       "145    426896\n",
       "146     98984\n",
       "147    352918\n",
       "148    314712\n",
       "149    170151\n",
       "Name: Population_2020, Length: 150, dtype: int64>"
      ]
     },
     "execution_count": 76,
     "metadata": {},
     "output_type": "execute_result"
    }
   ],
   "source": [
    "df_merged.Population_2020.median"
   ]
  },
  {
   "cell_type": "markdown",
   "metadata": {},
   "source": [
    "11. Créer une nouvelle colonne pour la population normalisée"
   ]
  },
  {
   "cell_type": "code",
   "execution_count": 79,
   "metadata": {},
   "outputs": [],
   "source": [
    "df_merged[\"Population_norm\"] = (df_merged[\"Population_2020\"] - df_merged.Population_2020.min() ) / (df_merged.Population_2020.max() - df_merged.Population_2020.min())"
   ]
  },
  {
   "cell_type": "markdown",
   "metadata": {},
   "source": [
    "12. Utiliser NumPy pour créer un tableau de statistiques descriptives"
   ]
  },
  {
   "cell_type": "code",
   "execution_count": 81,
   "metadata": {},
   "outputs": [
    {
     "data": {
      "text/plain": [
       "count       150.000000\n",
       "mean     476303.746667\n",
       "std      253222.755955\n",
       "min       73247.000000\n",
       "25%      285993.000000\n",
       "50%      403531.000000\n",
       "75%      697149.000000\n",
       "max      976075.000000\n",
       "Name: Population_2020, dtype: float64"
      ]
     },
     "execution_count": 81,
     "metadata": {},
     "output_type": "execute_result"
    }
   ],
   "source": [
    "df_merged.Population_2020.describe()"
   ]
  }
 ],
 "metadata": {
  "kernelspec": {
   "display_name": "Python 3",
   "language": "python",
   "name": "python3"
  },
  "language_info": {
   "codemirror_mode": {
    "name": "ipython",
    "version": 3
   },
   "file_extension": ".py",
   "mimetype": "text/x-python",
   "name": "python",
   "nbconvert_exporter": "python",
   "pygments_lexer": "ipython3",
   "version": "3.13.0"
  }
 },
 "nbformat": 4,
 "nbformat_minor": 2
}
